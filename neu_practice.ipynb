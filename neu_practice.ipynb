{
 "cells": [
  {
   "cell_type": "code",
   "execution_count": 1,
   "id": "444edfe6",
   "metadata": {},
   "outputs": [
    {
     "name": "stdout",
     "output_type": "stream",
     "text": [
      "Downloading data from https://storage.googleapis.com/tensorflow/tf-keras-datasets/imdb.npz\n",
      "17464789/17464789 [==============================] - 24s 1us/step\n"
     ]
    }
   ],
   "source": [
    "from tensorflow.keras.datasets import imdb\n",
    "(train_data, train_labels), (test_data, test_labels) = imdb.load_data(\n",
    " num_words=10000)"
   ]
  },
  {
   "cell_type": "code",
   "execution_count": 12,
   "id": "8520f46e",
   "metadata": {},
   "outputs": [
    {
     "data": {
      "text/plain": [
       "25000"
      ]
     },
     "execution_count": 12,
     "metadata": {},
     "output_type": "execute_result"
    }
   ],
   "source": [
    "len(test_labels)"
   ]
  },
  {
   "cell_type": "code",
   "execution_count": 13,
   "id": "79f13261",
   "metadata": {},
   "outputs": [
    {
     "name": "stdout",
     "output_type": "stream",
     "text": [
      "Downloading data from https://storage.googleapis.com/tensorflow/tf-keras-datasets/imdb_word_index.json\n",
      "1641221/1641221 [==============================] - 2s 1us/step\n"
     ]
    }
   ],
   "source": [
    "word_index = imdb.get_word_index() \n",
    "reverse_word_index = dict(\n",
    " [(value, key) for (key, value) in word_index.items()])\n",
    "decoded_review = \" \".join(\n",
    " [reverse_word_index.get(i - 3, \"?\") for i in train_data[0]]) \n"
   ]
  },
  {
   "cell_type": "code",
   "execution_count": 16,
   "id": "8dbb073c",
   "metadata": {},
   "outputs": [
    {
     "data": {
      "text/plain": [
       "88584"
      ]
     },
     "execution_count": 16,
     "metadata": {},
     "output_type": "execute_result"
    }
   ],
   "source": [
    "len(reverse_word_index)"
   ]
  },
  {
   "cell_type": "code",
   "execution_count": 20,
   "id": "6d3a871c",
   "metadata": {},
   "outputs": [],
   "source": [
    "decoded_review = \" \".join(\n",
    " [reverse_word_index.get(i-3, \"?\") for i in train_data[0]]) "
   ]
  },
  {
   "cell_type": "code",
   "execution_count": 47,
   "id": "4aeee6c8",
   "metadata": {},
   "outputs": [],
   "source": [
    "import numpy as np \n",
    "\n",
    "def vectorize_sequences(sequences, dimension=10000): \n",
    "    results = np.zeros((len(sequences), dimension))\n",
    "    for i, sequence in enumerate(sequences):\n",
    "        for j in sequence:\n",
    "            results[i, j] = 1.       \n",
    "    return results\n",
    "x_train = vectorize_sequences(train_data) \n",
    "x_test = vectorize_sequences(test_data)"
   ]
  },
  {
   "cell_type": "code",
   "execution_count": 46,
   "id": "d8ed384f",
   "metadata": {},
   "outputs": [
    {
     "data": {
      "text/plain": [
       "array([[ 0.,  1.,  6., ...,  0.,  0.,  0.],\n",
       "       [ 0.,  1.,  7., ...,  0.,  0.,  0.],\n",
       "       [ 0.,  1.,  2., ...,  0.,  0.,  0.],\n",
       "       ...,\n",
       "       [ 0.,  1., 14., ...,  0.,  0.,  0.],\n",
       "       [ 0.,  1.,  5., ...,  0.,  0.,  0.],\n",
       "       [ 0.,  1., 12., ...,  0.,  0.,  0.]])"
      ]
     },
     "execution_count": 46,
     "metadata": {},
     "output_type": "execute_result"
    }
   ],
   "source": [
    "x_train"
   ]
  },
  {
   "cell_type": "code",
   "execution_count": 48,
   "id": "9e076a43",
   "metadata": {},
   "outputs": [],
   "source": [
    "y_train = np.asarray(train_labels).astype(\"float32\")\n",
    "y_test = np.asarray(test_labels).astype(\"float32\")"
   ]
  },
  {
   "cell_type": "code",
   "execution_count": 50,
   "id": "5a2c00c2",
   "metadata": {},
   "outputs": [
    {
     "data": {
      "text/plain": [
       "array([1, 0, 0, ..., 0, 1, 0], dtype=int64)"
      ]
     },
     "execution_count": 50,
     "metadata": {},
     "output_type": "execute_result"
    }
   ],
   "source": [
    "train_labels"
   ]
  },
  {
   "cell_type": "code",
   "execution_count": 61,
   "id": "ccc161c2",
   "metadata": {},
   "outputs": [],
   "source": [
    "from tensorflow import keras \n",
    "from tensorflow.keras import layers\n",
    "model = keras.Sequential([\n",
    " layers.Dense(16, activation=\"relu\"),\n",
    " layers.Dense(16, activation=\"relu\"),\n",
    " layers.Dense(1, activation=\"sigmoid\")\n",
    "])"
   ]
  },
  {
   "cell_type": "code",
   "execution_count": 62,
   "id": "15af821e",
   "metadata": {},
   "outputs": [],
   "source": [
    "model.compile(optimizer=\"rmsprop\",\n",
    " loss=\"binary_crossentropy\",\n",
    " metrics=[\"accuracy\"])"
   ]
  },
  {
   "cell_type": "code",
   "execution_count": 63,
   "id": "7ae4d4db",
   "metadata": {},
   "outputs": [],
   "source": [
    "x_val = x_train[:10000]\n",
    "partial_x_train = x_train[10000:]\n",
    "y_val = y_train[:10000]\n",
    "partial_y_train = y_train[10000:]"
   ]
  },
  {
   "cell_type": "code",
   "execution_count": 64,
   "id": "d3d426da",
   "metadata": {},
   "outputs": [
    {
     "name": "stdout",
     "output_type": "stream",
     "text": [
      "Epoch 1/20\n",
      "30/30 [==============================] - 4s 81ms/step - loss: 0.5696 - accuracy: 0.7729 - val_loss: 0.4520 - val_accuracy: 0.8581\n",
      "Epoch 2/20\n",
      "30/30 [==============================] - 1s 40ms/step - loss: 0.3773 - accuracy: 0.8815 - val_loss: 0.3540 - val_accuracy: 0.8702\n",
      "Epoch 3/20\n",
      "30/30 [==============================] - 1s 36ms/step - loss: 0.2850 - accuracy: 0.9051 - val_loss: 0.3013 - val_accuracy: 0.8853\n",
      "Epoch 4/20\n",
      "30/30 [==============================] - 1s 35ms/step - loss: 0.2308 - accuracy: 0.9209 - val_loss: 0.2821 - val_accuracy: 0.8873\n",
      "Epoch 5/20\n",
      "30/30 [==============================] - 1s 37ms/step - loss: 0.1957 - accuracy: 0.9317 - val_loss: 0.2758 - val_accuracy: 0.8881\n",
      "Epoch 6/20\n",
      "30/30 [==============================] - 1s 39ms/step - loss: 0.1675 - accuracy: 0.9450 - val_loss: 0.2779 - val_accuracy: 0.8859\n",
      "Epoch 7/20\n",
      "30/30 [==============================] - 1s 40ms/step - loss: 0.1464 - accuracy: 0.9523 - val_loss: 0.2860 - val_accuracy: 0.8832\n",
      "Epoch 8/20\n",
      "30/30 [==============================] - 1s 42ms/step - loss: 0.1279 - accuracy: 0.9614 - val_loss: 0.3151 - val_accuracy: 0.8755\n",
      "Epoch 9/20\n",
      "30/30 [==============================] - 1s 37ms/step - loss: 0.1122 - accuracy: 0.9659 - val_loss: 0.3000 - val_accuracy: 0.8850\n",
      "Epoch 10/20\n",
      "30/30 [==============================] - 1s 41ms/step - loss: 0.0983 - accuracy: 0.9721 - val_loss: 0.3233 - val_accuracy: 0.8759\n",
      "Epoch 11/20\n",
      "30/30 [==============================] - 1s 36ms/step - loss: 0.0850 - accuracy: 0.9755 - val_loss: 0.3475 - val_accuracy: 0.8778\n",
      "Epoch 12/20\n",
      "30/30 [==============================] - 1s 35ms/step - loss: 0.0754 - accuracy: 0.9794 - val_loss: 0.3445 - val_accuracy: 0.8802\n",
      "Epoch 13/20\n",
      "30/30 [==============================] - 1s 31ms/step - loss: 0.0634 - accuracy: 0.9853 - val_loss: 0.4302 - val_accuracy: 0.8660\n",
      "Epoch 14/20\n",
      "30/30 [==============================] - 1s 37ms/step - loss: 0.0575 - accuracy: 0.9857 - val_loss: 0.3780 - val_accuracy: 0.8777\n",
      "Epoch 15/20\n",
      "30/30 [==============================] - 1s 29ms/step - loss: 0.0499 - accuracy: 0.9887 - val_loss: 0.3953 - val_accuracy: 0.8768\n",
      "Epoch 16/20\n",
      "30/30 [==============================] - 1s 35ms/step - loss: 0.0416 - accuracy: 0.9920 - val_loss: 0.4702 - val_accuracy: 0.8614\n",
      "Epoch 17/20\n",
      "30/30 [==============================] - 1s 38ms/step - loss: 0.0386 - accuracy: 0.9919 - val_loss: 0.4356 - val_accuracy: 0.8750\n",
      "Epoch 18/20\n",
      "30/30 [==============================] - 1s 37ms/step - loss: 0.0296 - accuracy: 0.9955 - val_loss: 0.4556 - val_accuracy: 0.8744\n",
      "Epoch 19/20\n",
      "30/30 [==============================] - 1s 38ms/step - loss: 0.0257 - accuracy: 0.9966 - val_loss: 0.4913 - val_accuracy: 0.8682\n",
      "Epoch 20/20\n",
      "30/30 [==============================] - 1s 42ms/step - loss: 0.0238 - accuracy: 0.9969 - val_loss: 0.5253 - val_accuracy: 0.8650\n"
     ]
    }
   ],
   "source": [
    "history = model.fit(partial_x_train,\n",
    " partial_y_train,\n",
    " epochs=20,\n",
    " batch_size=512,\n",
    " validation_data=(x_val, y_val))"
   ]
  },
  {
   "cell_type": "code",
   "execution_count": 55,
   "id": "0d4f6735",
   "metadata": {},
   "outputs": [
    {
     "data": {
      "text/plain": [
       "dict_keys(['loss', 'accuracy', 'val_loss', 'val_accuracy'])"
      ]
     },
     "execution_count": 55,
     "metadata": {},
     "output_type": "execute_result"
    }
   ],
   "source": [
    "history_dict = history.history\n",
    "history_dict.keys()"
   ]
  },
  {
   "cell_type": "code",
   "execution_count": 56,
   "id": "d7778cf3",
   "metadata": {},
   "outputs": [
    {
     "data": {
      "image/png": "[encoded data removed]",
      "text/plain": [
       "<Figure size 640x480 with 1 Axes>"
      ]
     },
     "metadata": {},
     "output_type": "display_data"
    }
   ],
   "source": [
    "import matplotlib.pyplot as plt\n",
    "history_dict = history.history\n",
    "loss_values = history_dict[\"loss\"]\n",
    "val_loss_values = history_dict[\"val_loss\"]\n",
    "epochs = range(1, len(loss_values) + 1)\n",
    "plt.plot(epochs, loss_values, \"bo\", label=\"Training loss\")\n",
    "plt.plot(epochs, val_loss_values, \"b\", label=\"Validation loss\") \n",
    "plt.title(\"Training and validation loss\")\n",
    "plt.xlabel(\"Epochs\")\n",
    "plt.ylabel(\"Loss\")\n",
    "plt.legend()\n",
    "plt.show()"
   ]
  },
  {
   "cell_type": "code",
   "execution_count": 57,
   "id": "460d55ab",
   "metadata": {},
   "outputs": [
    {
     "data": {
      "image/png": "[encoded data removed]",
      "text/plain": [
       "<Figure size 640x480 with 1 Axes>"
      ]
     },
     "metadata": {},
     "output_type": "display_data"
    }
   ],
   "source": [
    "acc = history_dict[\"accuracy\"]\n",
    "val_acc = history_dict[\"val_accuracy\"]\n",
    "plt.plot(epochs, acc, \"bo\", label=\"Training acc\")\n",
    "plt.plot(epochs, val_acc, \"b\", label=\"Validation acc\")\n",
    "plt.title(\"Training and validation accuracy\")\n",
    "plt.xlabel(\"Epochs\")\n",
    "plt.ylabel(\"Accuracy\")\n",
    "plt.legend()\n",
    "plt.show()"
   ]
  },
  {
   "cell_type": "code",
   "execution_count": 66,
   "id": "b3881a19",
   "metadata": {},
   "outputs": [
    {
     "name": "stdout",
     "output_type": "stream",
     "text": [
      "Epoch 1/4\n",
      "49/49 [==============================] - 2s 27ms/step - loss: 0.4770 - accuracy: 0.8089\n",
      "Epoch 2/4\n",
      "49/49 [==============================] - 2s 31ms/step - loss: 0.2797 - accuracy: 0.9040\n",
      "Epoch 3/4\n",
      "49/49 [==============================] - 1s 30ms/step - loss: 0.2164 - accuracy: 0.9208\n",
      "Epoch 4/4\n",
      "49/49 [==============================] - 1s 23ms/step - loss: 0.1857 - accuracy: 0.9344\n",
      "782/782 [==============================] - 3s 3ms/step - loss: 0.2838 - accuracy: 0.8846\n"
     ]
    }
   ],
   "source": [
    "model1 = keras.Sequential([\n",
    " layers.Dense(16, activation=\"relu\"),\n",
    " layers.Dense(16, activation=\"relu\"),\n",
    " layers.Dense(1, activation=\"sigmoid\")\n",
    "])\n",
    "model1.compile(optimizer=\"rmsprop\",\n",
    " loss=\"binary_crossentropy\",\n",
    " metrics=[\"accuracy\"])\n",
    "model1.fit(x_train, y_train, epochs=4, batch_size=512)\n",
    "results = model1.evaluate(x_test, y_test)"
   ]
  },
  {
   "cell_type": "code",
   "execution_count": 68,
   "id": "1758fda3",
   "metadata": {},
   "outputs": [
    {
     "name": "stdout",
     "output_type": "stream",
     "text": [
      "782/782 [==============================] - 2s 3ms/step\n"
     ]
    },
    {
     "data": {
      "text/plain": [
       "array([[False],\n",
       "       [ True],\n",
       "       [ True],\n",
       "       ...,\n",
       "       [False],\n",
       "       [False],\n",
       "       [ True]])"
      ]
     },
     "execution_count": 68,
     "metadata": {},
     "output_type": "execute_result"
    }
   ],
   "source": [
    "model1.predict(x_test)>0.5"
   ]
  },
  {
   "cell_type": "code",
   "execution_count": 1,
   "id": "a26e011b",
   "metadata": {},
   "outputs": [
    {
     "name": "stdout",
     "output_type": "stream",
     "text": [
      "Encoded Sentence: tf.Tensor([2 9 7 6], shape=(4,), dtype=int64)\n"
     ]
    }
   ],
   "source": [
    "import tensorflow as tf\n",
    "from tensorflow.keras.layers import TextVectorization\n",
    "\n",
    "# Create the TextVectorization layer\n",
    "text_vectorization = TextVectorization(output_mode=\"int\", standardize=\"lower_and_strip_punctuation\", max_tokens=1000)\n",
    "\n",
    "# Example dataset\n",
    "dataset = [\n",
    "    \"The quick brown fox jumps over the lazy dog!\",\n",
    "    \"THE QUICK BROWN FOX JUMPS OVER THE LAZY DOG.\"\n",
    "]\n",
    "\n",
    "# Adapt the TextVectorization layer to the dataset\n",
    "text_vectorization.adapt(dataset)\n",
    "\n",
    "# Transform a sentence using the TextVectorization layer\n",
    "input_sentence = \"The brown fox jumps\"\n",
    "encoded_sentence = text_vectorization(input_sentence)\n",
    "print(\"Encoded Sentence:\", encoded_sentence)\n"
   ]
  },
  {
   "cell_type": "code",
   "execution_count": 9,
   "id": "98fc97b8",
   "metadata": {},
   "outputs": [
    {
     "name": "stdout",
     "output_type": "stream",
     "text": [
      "Encoded Sentence: tf.Tensor([2 3 9 7 6 4 2 5 8], shape=(9,), dtype=int64)\n"
     ]
    }
   ],
   "source": [
    "input_sentence = \"The quick brown fox jumps over the lzy dog!\"\n",
    "encoded_sentence = text_vectorization(input_sentence)\n",
    "print(\"Encoded Sentence:\", encoded_sentence)\n"
   ]
  },
  {
   "cell_type": "code",
   "execution_count": null,
   "id": "97ec98c9",
   "metadata": {},
   "outputs": [],
   "source": []
  }
 ],
 "metadata": {
  "kernelspec": {
   "display_name": "Python 3 (ipykernel)",
   "language": "python",
   "name": "python3"
  },
  "language_info": {
   "codemirror_mode": {
    "name": "ipython",
    "version": 3
   },
   "file_extension": ".py",
   "mimetype": "text/x-python",
   "name": "python",
   "nbconvert_exporter": "python",
   "pygments_lexer": "ipython3",
   "version": "3.9.13"
  }
 },
 "nbformat": 4,
 "nbformat_minor": 5
}
