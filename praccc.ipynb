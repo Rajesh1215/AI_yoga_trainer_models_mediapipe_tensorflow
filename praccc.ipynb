{
 "cells": [
  {
   "cell_type": "code",
   "execution_count": 2,
   "id": "f71967f0",
   "metadata": {},
   "outputs": [
    {
     "name": "stdout",
     "output_type": "stream",
     "text": [
      "Mean along axis 0: [4. 5. 6.]\n"
     ]
    },
    {
     "data": {
      "text/plain": [
       "array([4., 5., 6.])"
      ]
     },
     "execution_count": 2,
     "metadata": {},
     "output_type": "execute_result"
    }
   ],
   "source": [
    "import numpy as np\n",
    "\n",
    "def calculate_mean_along_axis0(array):\n",
    "    # Calculate the mean along axis 0\n",
    "    mean_axis0 = np.mean(array, axis=0)\n",
    "    return mean_axis0\n",
    "\n",
    "# Create a sample NumPy array\n",
    "sample_array = np.array([[1, 2, 3],\n",
    "                         [4, 5, 6],\n",
    "                         [7, 8, 9]])\n",
    "\n",
    "# Calculate the mean along axis 0\n",
    "result = calculate_mean_along_axis0(sample_array)\n",
    "\n",
    "print(\"Mean along axis 0:\", result)\n",
    "sample_array.mean(axis=0)"
   ]
  },
  {
   "cell_type": "code",
   "execution_count": 3,
   "id": "d92ece40",
   "metadata": {},
   "outputs": [
    {
     "name": "stdout",
     "output_type": "stream",
     "text": [
      "Mean along axis 0:\n",
      " Column1    4.0\n",
      "Column2    5.0\n",
      "Column3    6.0\n",
      "dtype: float64\n"
     ]
    }
   ],
   "source": [
    "import pandas as pd\n",
    "\n",
    "def calculate_mean_along_axis0(dataframe):\n",
    "    # Calculate the mean along axis 0\n",
    "    mean_axis0 = dataframe.mean(axis=0)\n",
    "    return mean_axis0\n",
    "\n",
    "# Create a sample pandas DataFrame\n",
    "data = {'Column1': [1, 4, 7],\n",
    "        'Column2': [2, 5, 8],\n",
    "        'Column3': [3, 6, 9]}\n",
    "sample_dataframe = pd.DataFrame(data)\n",
    "\n",
    "# Calculate the mean along axis 0\n",
    "result = calculate_mean_along_axis0(sample_dataframe)\n",
    "\n",
    "print(\"Mean along axis 0:\\n\", result)\n"
   ]
  },
  {
   "cell_type": "code",
   "execution_count": 7,
   "id": "62008584",
   "metadata": {},
   "outputs": [
    {
     "data": {
      "text/plain": [
       "0    2.0\n",
       "1    5.0\n",
       "2    8.0\n",
       "dtype: float64"
      ]
     },
     "execution_count": 7,
     "metadata": {},
     "output_type": "execute_result"
    }
   ],
   "source": [
    "sample_dataframe.mean(axis=1)"
   ]
  },
  {
   "cell_type": "code",
   "execution_count": 6,
   "id": "0d71eb39",
   "metadata": {},
   "outputs": [
    {
     "data": {
      "text/html": [
       "<div>\n",
       "<style scoped>\n",
       "    .dataframe tbody tr th:only-of-type {\n",
       "        vertical-align: middle;\n",
       "    }\n",
       "\n",
       "    .dataframe tbody tr th {\n",
       "        vertical-align: top;\n",
       "    }\n",
       "\n",
       "    .dataframe thead th {\n",
       "        text-align: right;\n",
       "    }\n",
       "</style>\n",
       "<table border=\"1\" class=\"dataframe\">\n",
       "  <thead>\n",
       "    <tr style=\"text-align: right;\">\n",
       "      <th></th>\n",
       "      <th>Column1</th>\n",
       "      <th>Column2</th>\n",
       "      <th>Column3</th>\n",
       "    </tr>\n",
       "  </thead>\n",
       "  <tbody>\n",
       "    <tr>\n",
       "      <th>0</th>\n",
       "      <td>1</td>\n",
       "      <td>2</td>\n",
       "      <td>3</td>\n",
       "    </tr>\n",
       "    <tr>\n",
       "      <th>1</th>\n",
       "      <td>4</td>\n",
       "      <td>5</td>\n",
       "      <td>6</td>\n",
       "    </tr>\n",
       "    <tr>\n",
       "      <th>2</th>\n",
       "      <td>7</td>\n",
       "      <td>8</td>\n",
       "      <td>9</td>\n",
       "    </tr>\n",
       "  </tbody>\n",
       "</table>\n",
       "</div>"
      ],
      "text/plain": [
       "   Column1  Column2  Column3\n",
       "0        1        2        3\n",
       "1        4        5        6\n",
       "2        7        8        9"
      ]
     },
     "execution_count": 6,
     "metadata": {},
     "output_type": "execute_result"
    }
   ],
   "source": [
    "sample_dataframe"
   ]
  },
  {
   "cell_type": "code",
   "execution_count": 8,
   "id": "20e30aa1",
   "metadata": {},
   "outputs": [
    {
     "name": "stdout",
     "output_type": "stream",
     "text": [
      "hi\n"
     ]
    }
   ],
   "source": [
    "print('hi')"
   ]
  },
  {
   "cell_type": "code",
   "execution_count": 9,
   "id": "6c8d7374",
   "metadata": {},
   "outputs": [],
   "source": [
    "from tensorflow.keras.layers import TextVectorization\n"
   ]
  },
  {
   "cell_type": "code",
   "execution_count": 1,
   "id": "50190782",
   "metadata": {},
   "outputs": [
    {
     "name": "stdout",
     "output_type": "stream",
     "text": [
      "1/1 [==============================] - 1s 1s/step\n",
      "One-Hot Encoded Sequence:\n",
      "[[[0. 0. 1. 0. 0. 0. 0. 0. 0. 0.]\n",
      "  [0. 0. 0. 0. 1. 0. 0. 0. 0. 0.]\n",
      "  [0. 1. 0. 0. 0. 0. 0. 0. 0. 0.]\n",
      "  [0. 0. 0. 0. 0. 0. 0. 1. 0. 0.]\n",
      "  [0. 0. 0. 1. 0. 0. 0. 0. 0. 0.]]]\n"
     ]
    }
   ],
   "source": [
    "import tensorflow as tf\n",
    "from tensorflow import keras\n",
    "from tensorflow.keras import layers\n",
    "\n",
    "# Define parameters\n",
    "max_tokens = 10  # Vocabulary size\n",
    "sequence_length = 5  # Length of input sequences\n",
    "\n",
    "# Create a sample input sequence\n",
    "input_sequence = [2, 4, 1, 7, 3]\n",
    "\n",
    "# Define the Input Layer\n",
    "inputs = keras.Input(shape=(sequence_length,), dtype=\"int64\")\n",
    "\n",
    "# Perform one-hot encoding\n",
    "embedded = tf.one_hot(inputs, depth=max_tokens)\n",
    "\n",
    "# Create a model with the embedding layer\n",
    "model = keras.Model(inputs, embedded)\n",
    "\n",
    "# Display the one-hot encoded sequence\n",
    "one_hot_encoded_sequence = model.predict([input_sequence])\n",
    "print(\"One-Hot Encoded Sequence:\")\n",
    "print(one_hot_encoded_sequence)\n"
   ]
  },
  {
   "cell_type": "code",
   "execution_count": 3,
   "id": "c2d8f0e1",
   "metadata": {},
   "outputs": [
    {
     "name": "stdout",
     "output_type": "stream",
     "text": [
      "1/1 [==============================] - 0s 410ms/step\n",
      "One-Hot Encoded Sequence:\n",
      "[[[0. 0. 1. 0. 0. 0. 0. 0. 0. 0.]\n",
      "  [0. 0. 0. 0. 1. 0. 0. 0. 0. 0.]\n",
      "  [1. 0. 0. 0. 0. 0. 0. 0. 0. 0.]\n",
      "  [0. 0. 0. 0. 0. 0. 0. 1. 0. 0.]\n",
      "  [0. 0. 0. 1. 0. 0. 0. 0. 0. 0.]]]\n"
     ]
    }
   ],
   "source": [
    "input_sequence = [2, 4,0, 7, 3]\n",
    "\n",
    "one_hot_encoded_sequence = model.predict([input_sequence])\n",
    "print(\"One-Hot Encoded Sequence:\")\n",
    "print(one_hot_encoded_sequence)"
   ]
  },
  {
   "cell_type": "code",
   "execution_count": 2,
   "id": "230f027e",
   "metadata": {},
   "outputs": [
    {
     "name": "stdout",
     "output_type": "stream",
     "text": [
      "Original sequences:\n",
      " [[1 2 3 0]\n",
      " [4 5 0 0]\n",
      " [6 7 8 9]]\n",
      "\n",
      "Embedded sequences:\n",
      " [[[-3.9190173e-02  4.7549192e-02 -5.6616068e-03  7.8545213e-03\n",
      "    2.4777722e-02]\n",
      "  [-4.4728734e-02  3.6977123e-02  3.2341424e-02 -1.1885691e-02\n",
      "    2.1390606e-02]\n",
      "  [-2.7083326e-02 -4.4503152e-02  3.4754481e-02 -1.8973947e-03\n",
      "   -4.7852565e-02]\n",
      "  [ 3.5931874e-02  3.3987164e-03  3.9700676e-02 -3.8502775e-02\n",
      "   -4.9115371e-02]]\n",
      "\n",
      " [[ 4.7227088e-02 -6.2262192e-03 -1.8088065e-02 -1.5391588e-02\n",
      "    3.7944805e-02]\n",
      "  [-1.8180598e-02  2.1653067e-02  3.5450425e-02 -4.7611561e-02\n",
      "   -2.1008600e-02]\n",
      "  [ 3.5931874e-02  3.3987164e-03  3.9700676e-02 -3.8502775e-02\n",
      "   -4.9115371e-02]\n",
      "  [ 3.5931874e-02  3.3987164e-03  3.9700676e-02 -3.8502775e-02\n",
      "   -4.9115371e-02]]\n",
      "\n",
      " [[ 5.8721192e-03  5.8426149e-03  7.4446201e-05 -1.3410129e-02\n",
      "    1.6996194e-02]\n",
      "  [ 1.7509460e-03 -2.1479595e-02 -4.2637810e-03 -1.2347281e-02\n",
      "    3.7635121e-02]\n",
      "  [-1.8035747e-02 -3.5052784e-03 -6.8548322e-03  5.6091659e-03\n",
      "    4.5231555e-02]\n",
      "  [-2.4215793e-02  1.7066959e-02  4.1398350e-02  4.8137907e-02\n",
      "   -2.8920686e-02]]]\n"
     ]
    }
   ],
   "source": [
    "import numpy as np\n",
    "import tensorflow as tf\n",
    "from tensorflow.keras.layers import Embedding\n",
    "\n",
    "# Define vocabulary size and embedding dimension\n",
    "vocab_size = 10\n",
    "embedding_dim = 5\n",
    "\n",
    "# Create a toy sequence with padding\n",
    "sequences = np.array([[1, 2, 3, 0], [4, 5, 0, 0], [6, 7, 8, 9]])\n",
    "\n",
    "# Create an embedding layer with mask_zero=True\n",
    "embedding_layer = Embedding(\n",
    "    input_dim=vocab_size,\n",
    "    output_dim=embedding_dim,\n",
    "    mask_zero=True  # Mask padding tokens\n",
    ")\n",
    "\n",
    "# Apply the embedding layer to the sequences\n",
    "embedded_sequences = embedding_layer(sequences)\n",
    "\n",
    "# Print the original sequences and their embeddings\n",
    "print(\"Original sequences:\\n\", sequences)\n",
    "print(\"\\nEmbedded sequences:\\n\", embedded_sequences.numpy())\n"
   ]
  },
  {
   "cell_type": "code",
   "execution_count": null,
   "id": "be893b24",
   "metadata": {},
   "outputs": [],
   "source": []
  }
 ],
 "metadata": {
  "kernelspec": {
   "display_name": "Python 3 (ipykernel)",
   "language": "python",
   "name": "python3"
  },
  "language_info": {
   "codemirror_mode": {
    "name": "ipython",
    "version": 3
   },
   "file_extension": ".py",
   "mimetype": "text/x-python",
   "name": "python",
   "nbconvert_exporter": "python",
   "pygments_lexer": "ipython3",
   "version": "3.9.13"
  }
 },
 "nbformat": 4,
 "nbformat_minor": 5
}
