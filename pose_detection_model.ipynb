{
 "cells": [
  {
   "cell_type": "code",
   "execution_count": 99,
   "id": "11b7ee99",
   "metadata": {},
   "outputs": [],
   "source": [
    "import pandas as pd\n",
    "import numpy as np\n",
    "import tensorflow as tf\n",
    "from sklearn.model_selection import train_test_split\n",
    "from sklearn.preprocessing import LabelEncoder\n",
    "from tensorflow.keras import layers, models\n",
    "import cv2\n",
    "import mediapipe as mp\n",
    "import numpy as np\n",
    "import os\n",
    "mp_drawing = mp.solutions.drawing_utils\n",
    "mp_pose = mp.solutions.pose"
   ]
  },
  {
   "cell_type": "code",
   "execution_count": 2,
   "id": "17ba2b48",
   "metadata": {},
   "outputs": [],
   "source": [
    "csv_path = 'pose_measures.csv'  # Replace with the path to your CSV file\n",
    "df = pd.read_csv(csv_path)"
   ]
  },
  {
   "cell_type": "code",
   "execution_count": 6,
   "id": "1bc64997",
   "metadata": {},
   "outputs": [
    {
     "data": {
      "text/plain": [
       "Index(['angle_right_shoulder_hip_knee', 'angle_right_hip_knee_ankle',\n",
       "       'angle_left_shoulder_hip_knee', 'angle_left_hip_knee_ankle',\n",
       "       'angle_right_elbow_shoulder_hip', 'angle_left_elbow_shoulder_hip',\n",
       "       'angle_right_wrist_elbow_shoulder', 'angle_left_wrist_elbow_shoulder',\n",
       "       'ndright_shoulder', 'aright_shoulder', 'ndright_elbow', 'aright_elbow',\n",
       "       'ndright_wrist', 'aright_wrist', 'ndright_hip', 'aright_hip',\n",
       "       'ndright_knee', 'aright_knee', 'ndright_ankle', 'aright_ankle',\n",
       "       'ndleft_shoulder', 'aleft_shoulder', 'ndleft_elbow', 'aleft_elbow',\n",
       "       'ndleft_wrist', 'aleft_wrist', 'ndleft_hip', 'aleft_hip', 'ndleft_knee',\n",
       "       'aleft_knee', 'ndleft_ankle', 'aleft_ankle', 'pose'],\n",
       "      dtype='object')"
      ]
     },
     "execution_count": 6,
     "metadata": {},
     "output_type": "execute_result"
    }
   ],
   "source": [
    "df.columns"
   ]
  },
  {
   "cell_type": "code",
   "execution_count": 58,
   "id": "261cfff2",
   "metadata": {},
   "outputs": [],
   "source": [
    "\n",
    "# Define the pose classes\n",
    "poses = {\n",
    "    0: 'no_pose',\n",
    "    1: 'tree',\n",
    "    2: 'chair',\n",
    "    3: 'cobra',\n",
    "    4: 'shoulder_stand',\n",
    "    5: 'warrior',\n",
    "    6: 'triangle',\n",
    "}\n",
    "\n",
    "\n"
   ]
  },
  {
   "cell_type": "code",
   "execution_count": 72,
   "id": "0819db9d",
   "metadata": {},
   "outputs": [
    {
     "name": "stdout",
     "output_type": "stream",
     "text": [
      "Model: \"sequential_17\"\n",
      "_________________________________________________________________\n",
      " Layer (type)                Output Shape              Param #   \n",
      "=================================================================\n",
      " dense_86 (Dense)            (None, 128)               4224      \n",
      "                                                                 \n",
      " dense_87 (Dense)            (None, 128)               16512     \n",
      "                                                                 \n",
      " dense_88 (Dense)            (None, 64)                8256      \n",
      "                                                                 \n",
      " dense_89 (Dense)            (None, 32)                2080      \n",
      "                                                                 \n",
      " dense_90 (Dense)            (None, 32)                1056      \n",
      "                                                                 \n",
      " batch_normalization_15 (Ba  (None, 32)                128       \n",
      " tchNormalization)                                               \n",
      "                                                                 \n",
      " dense_91 (Dense)            (None, 7)                 231       \n",
      "                                                                 \n",
      "=================================================================\n",
      "Total params: 32487 (126.90 KB)\n",
      "Trainable params: 32423 (126.65 KB)\n",
      "Non-trainable params: 64 (256.00 Byte)\n",
      "_________________________________________________________________\n"
     ]
    }
   ],
   "source": [
    "# Split the data into features (X) and labels (y)\n",
    "X = df.drop('pose', axis=1)  # Features\n",
    "y = df['pose']  # Labels\n",
    "\n",
    "# Split the data into training and testing sets\n",
    "X_train, X_test, y_train, y_test = train_test_split(X, y, test_size=0.2, random_state=42)\n",
    "\n",
    "# Define the TensorFlow model\n",
    "model = models.Sequential([\n",
    "    layers.Dense(128, activation='relu', input_shape=(X_train.shape[1],)),\n",
    "    layers.Dense(128, activation='relu', input_shape=(X_train.shape[1],)),\n",
    "    layers.Dense(64, activation='relu'),\n",
    "    layers.Dense(32, activation='relu'),\n",
    "    layers.Dense(32, activation='relu'),\n",
    "    layers.BatchNormalization(),\n",
    "#     layers.Dropout(0.3),\n",
    "    layers.Dense(len(poses), activation='softmax')  # Number of output classes\n",
    "])\n",
    "\n",
    "# Compile the model\n",
    "model.compile(optimizer='adam', loss='sparse_categorical_crossentropy', metrics=['accuracy'])\n",
    "\n",
    "model.summary()"
   ]
  },
  {
   "cell_type": "code",
   "execution_count": 73,
   "id": "b932f6a9",
   "metadata": {},
   "outputs": [
    {
     "name": "stdout",
     "output_type": "stream",
     "text": [
      "Epoch 1/35\n",
      "39/39 [==============================] - 1s 5ms/step - loss: 1.2667 - accuracy: 0.5532 - val_loss: 0.7769 - val_accuracy: 0.7097\n",
      "Epoch 2/35\n",
      "39/39 [==============================] - 0s 2ms/step - loss: 0.6537 - accuracy: 0.7798 - val_loss: 0.4287 - val_accuracy: 0.8548\n",
      "Epoch 3/35\n",
      "39/39 [==============================] - 0s 2ms/step - loss: 0.4756 - accuracy: 0.8661 - val_loss: 0.3579 - val_accuracy: 0.9032\n",
      "Epoch 4/35\n",
      "39/39 [==============================] - 0s 2ms/step - loss: 0.4097 - accuracy: 0.8847 - val_loss: 0.5288 - val_accuracy: 0.8194\n",
      "Epoch 5/35\n",
      "39/39 [==============================] - 0s 2ms/step - loss: 0.3969 - accuracy: 0.8815 - val_loss: 0.3290 - val_accuracy: 0.8871\n",
      "Epoch 6/35\n",
      "39/39 [==============================] - 0s 2ms/step - loss: 0.2664 - accuracy: 0.9177 - val_loss: 0.4080 - val_accuracy: 0.8581\n",
      "Epoch 7/35\n",
      "39/39 [==============================] - 0s 2ms/step - loss: 0.2259 - accuracy: 0.9403 - val_loss: 0.2082 - val_accuracy: 0.9387\n",
      "Epoch 8/35\n",
      "39/39 [==============================] - 0s 2ms/step - loss: 0.1835 - accuracy: 0.9556 - val_loss: 0.1673 - val_accuracy: 0.9548\n",
      "Epoch 9/35\n",
      "39/39 [==============================] - 0s 2ms/step - loss: 0.1434 - accuracy: 0.9710 - val_loss: 0.1858 - val_accuracy: 0.9516\n",
      "Epoch 10/35\n",
      "39/39 [==============================] - 0s 2ms/step - loss: 0.1286 - accuracy: 0.9677 - val_loss: 0.1837 - val_accuracy: 0.9355\n",
      "Epoch 11/35\n",
      "39/39 [==============================] - 0s 2ms/step - loss: 0.1254 - accuracy: 0.9718 - val_loss: 0.1626 - val_accuracy: 0.9516\n",
      "Epoch 12/35\n",
      "39/39 [==============================] - 0s 2ms/step - loss: 0.1784 - accuracy: 0.9548 - val_loss: 0.3295 - val_accuracy: 0.8677\n",
      "Epoch 13/35\n",
      "39/39 [==============================] - 0s 2ms/step - loss: 0.1462 - accuracy: 0.9548 - val_loss: 0.1957 - val_accuracy: 0.9355\n",
      "Epoch 14/35\n",
      "39/39 [==============================] - 0s 3ms/step - loss: 0.1136 - accuracy: 0.9742 - val_loss: 0.1453 - val_accuracy: 0.9548\n",
      "Epoch 15/35\n",
      "39/39 [==============================] - 0s 2ms/step - loss: 0.1097 - accuracy: 0.9653 - val_loss: 0.1361 - val_accuracy: 0.9581\n",
      "Epoch 16/35\n",
      "39/39 [==============================] - 0s 3ms/step - loss: 0.0893 - accuracy: 0.9782 - val_loss: 0.1882 - val_accuracy: 0.9323\n",
      "Epoch 17/35\n",
      "39/39 [==============================] - 0s 2ms/step - loss: 0.0582 - accuracy: 0.9863 - val_loss: 0.0871 - val_accuracy: 0.9774\n",
      "Epoch 18/35\n",
      "39/39 [==============================] - 0s 2ms/step - loss: 0.0591 - accuracy: 0.9839 - val_loss: 0.0802 - val_accuracy: 0.9774\n",
      "Epoch 19/35\n",
      "39/39 [==============================] - 0s 2ms/step - loss: 0.0678 - accuracy: 0.9798 - val_loss: 0.1278 - val_accuracy: 0.9548\n",
      "Epoch 20/35\n",
      "39/39 [==============================] - 0s 2ms/step - loss: 0.0612 - accuracy: 0.9839 - val_loss: 0.1284 - val_accuracy: 0.9613\n",
      "Epoch 21/35\n",
      "39/39 [==============================] - 0s 2ms/step - loss: 0.0442 - accuracy: 0.9895 - val_loss: 0.0880 - val_accuracy: 0.9742\n",
      "Epoch 22/35\n",
      "39/39 [==============================] - 0s 2ms/step - loss: 0.0321 - accuracy: 0.9935 - val_loss: 0.0870 - val_accuracy: 0.9710\n",
      "Epoch 23/35\n",
      "39/39 [==============================] - 0s 2ms/step - loss: 0.0297 - accuracy: 0.9935 - val_loss: 0.1174 - val_accuracy: 0.9581\n",
      "Epoch 24/35\n",
      "39/39 [==============================] - 0s 2ms/step - loss: 0.0969 - accuracy: 0.9742 - val_loss: 0.1782 - val_accuracy: 0.9355\n",
      "Epoch 25/35\n",
      "39/39 [==============================] - 0s 2ms/step - loss: 0.0764 - accuracy: 0.9798 - val_loss: 0.1206 - val_accuracy: 0.9581\n",
      "Epoch 26/35\n",
      "39/39 [==============================] - 0s 2ms/step - loss: 0.0412 - accuracy: 0.9911 - val_loss: 0.1104 - val_accuracy: 0.9645\n",
      "Epoch 27/35\n",
      "39/39 [==============================] - 0s 2ms/step - loss: 0.0366 - accuracy: 0.9919 - val_loss: 0.1028 - val_accuracy: 0.9742\n",
      "Epoch 28/35\n",
      "39/39 [==============================] - 0s 2ms/step - loss: 0.0395 - accuracy: 0.9895 - val_loss: 0.1482 - val_accuracy: 0.9419\n",
      "Epoch 29/35\n",
      "39/39 [==============================] - 0s 2ms/step - loss: 0.0331 - accuracy: 0.9911 - val_loss: 0.2008 - val_accuracy: 0.9516\n",
      "Epoch 30/35\n",
      "39/39 [==============================] - 0s 2ms/step - loss: 0.0297 - accuracy: 0.9911 - val_loss: 0.1128 - val_accuracy: 0.9677\n",
      "Epoch 31/35\n",
      "39/39 [==============================] - 0s 2ms/step - loss: 0.0356 - accuracy: 0.9927 - val_loss: 0.0924 - val_accuracy: 0.9774\n",
      "Epoch 32/35\n",
      "39/39 [==============================] - 0s 2ms/step - loss: 0.0317 - accuracy: 0.9919 - val_loss: 0.0988 - val_accuracy: 0.9613\n",
      "Epoch 33/35\n",
      "39/39 [==============================] - 0s 2ms/step - loss: 0.0126 - accuracy: 0.9976 - val_loss: 0.0888 - val_accuracy: 0.9710\n",
      "Epoch 34/35\n",
      "39/39 [==============================] - 0s 3ms/step - loss: 0.0158 - accuracy: 0.9976 - val_loss: 0.1213 - val_accuracy: 0.9677\n",
      "Epoch 35/35\n",
      "39/39 [==============================] - 0s 3ms/step - loss: 0.0240 - accuracy: 0.9968 - val_loss: 0.0998 - val_accuracy: 0.9774\n"
     ]
    }
   ],
   "source": [
    "# Train the model\n",
    "history=model.fit(X_train, y_train, epochs=35, batch_size=32, validation_data=(X_test, y_test))\n"
   ]
  },
  {
   "cell_type": "code",
   "execution_count": 93,
   "id": "fd40e191",
   "metadata": {},
   "outputs": [
    {
     "name": "stdout",
     "output_type": "stream",
     "text": [
      "10/10 [==============================] - 0s 2ms/step - loss: 0.0998 - accuracy: 0.9774\n",
      "Test Accuracy: 0.977419376373291\n"
     ]
    }
   ],
   "source": [
    "# Evaluate the model\n",
    "test_loss, test_acc = model.evaluate(X_test, y_test)\n",
    "print(f'Test Accuracy: {test_acc}')\n",
    "\n",
    "# Save the model\n"
   ]
  },
  {
   "cell_type": "code",
   "execution_count": 75,
   "id": "fb0c0372",
   "metadata": {},
   "outputs": [
    {
     "data": {
      "image/png": "[encoded data removed]",
      "text/plain": [
       "<Figure size 1200x600 with 2 Axes>"
      ]
     },
     "metadata": {},
     "output_type": "display_data"
    }
   ],
   "source": [
    "import matplotlib.pyplot as plt\n",
    "\n",
    "# Train the model and get the training history\n",
    "# history = model.fit(X_train, y_train, epochs=30, batch_size=32, validation_data=(X_test, y_test))\n",
    "\n",
    "# Plot training and validation accuracy values\n",
    "plt.figure(figsize=(12, 6))\n",
    "plt.subplot(1, 2, 1)\n",
    "plt.plot(history.history['accuracy'], label='Training Accuracy')\n",
    "plt.plot(history.history['val_accuracy'], label='Validation Accuracy')\n",
    "plt.title('Training and Validation Accuracy')\n",
    "plt.xlabel('Epoch')\n",
    "plt.ylabel('Accuracy')\n",
    "plt.legend()\n",
    "\n",
    "# Plot training and validation loss values\n",
    "plt.subplot(1, 2, 2)\n",
    "plt.plot(history.history['loss'], label='Training Loss')\n",
    "plt.plot(history.history['val_loss'], label='Validation Loss')\n",
    "plt.title('Training and Validation Loss')\n",
    "plt.xlabel('Epoch')\n",
    "plt.ylabel('Loss')\n",
    "plt.legend()\n",
    "\n",
    "plt.show()\n"
   ]
  },
  {
   "cell_type": "code",
   "execution_count": 76,
   "id": "e7428289",
   "metadata": {},
   "outputs": [
    {
     "name": "stderr",
     "output_type": "stream",
     "text": [
      "C:\\Users\\kingr\\anaconda3\\lib\\site-packages\\keras\\src\\engine\\training.py:3000: UserWarning: You are saving your model as an HDF5 file via `model.save()`. This file format is considered legacy. We recommend using instead the native Keras format, e.g. `model.save('my_model.keras')`.\n",
      "  saving_api.save_model(\n"
     ]
    }
   ],
   "source": [
    "model.save('pose_classification_model.h5')"
   ]
  },
  {
   "cell_type": "code",
   "execution_count": 77,
   "id": "90915e7d",
   "metadata": {},
   "outputs": [],
   "source": [
    "model.save('pose_classification_model_keras.keras')"
   ]
  },
  {
   "cell_type": "code",
   "execution_count": 91,
   "id": "a0ebe417",
   "metadata": {},
   "outputs": [
    {
     "ename": "NameError",
     "evalue": "name 'modal' is not defined",
     "output_type": "error",
     "traceback": [
      "\u001b[1;31m---------------------------------------------------------------------------\u001b[0m",
      "\u001b[1;31mNameError\u001b[0m                                 Traceback (most recent call last)",
      "\u001b[1;32m~\\AppData\\Local\\Temp\\ipykernel_17068\\1903213619.py\u001b[0m in \u001b[0;36m<module>\u001b[1;34m\u001b[0m\n\u001b[1;32m----> 1\u001b[1;33m \u001b[0mmodal\u001b[0m\u001b[1;33m.\u001b[0m\u001b[0mpredict\u001b[0m\u001b[1;33m(\u001b[0m\u001b[0mX_test\u001b[0m\u001b[1;33m.\u001b[0m\u001b[0miloc\u001b[0m\u001b[1;33m[\u001b[0m\u001b[1;36m0\u001b[0m\u001b[1;33m,\u001b[0m \u001b[1;33m:\u001b[0m\u001b[1;33m]\u001b[0m\u001b[1;33m)\u001b[0m\u001b[1;33m\u001b[0m\u001b[1;33m\u001b[0m\u001b[0m\n\u001b[0m",
      "\u001b[1;31mNameError\u001b[0m: name 'modal' is not defined"
     ]
    }
   ],
   "source": [
    "modal.predict(X_test.iloc[0, :])\n"
   ]
  },
  {
   "cell_type": "code",
   "execution_count": 87,
   "id": "a56d19ca",
   "metadata": {},
   "outputs": [
    {
     "data": {
      "text/plain": [
       "153.5"
      ]
     },
     "execution_count": 87,
     "metadata": {},
     "output_type": "execute_result"
    }
   ],
   "source": [
    "X_test.loc[X_test.index[0], X_test.columns[0]]"
   ]
  },
  {
   "cell_type": "code",
   "execution_count": 98,
   "id": "8d511224",
   "metadata": {},
   "outputs": [
    {
     "name": "stdout",
     "output_type": "stream",
     "text": [
      "1/1 [==============================] - 0s 16ms/step\n"
     ]
    },
    {
     "data": {
      "text/plain": [
       "array([[2.4567093e-04, 3.3331220e-05, 1.6805885e-04, 4.3716253e-04,\n",
       "        9.9737716e-01, 1.7172756e-03, 2.1391568e-05]], dtype=float32)"
      ]
     },
     "execution_count": 98,
     "metadata": {},
     "output_type": "execute_result"
    }
   ],
   "source": [
    "# Reshape the input to match the model's expected shape\n",
    "input_sample = X_test.iloc[1, :].values.reshape(1, -1)\n",
    "\n",
    "# Predict using the reshaped input\n",
    "model.predict(input_sample)\n"
   ]
  },
  {
   "cell_type": "code",
   "execution_count": 97,
   "id": "d2d09609",
   "metadata": {},
   "outputs": [
    {
     "data": {
      "text/plain": [
       "1519    6.0\n",
       "1441    4.0\n",
       "351     1.0\n",
       "352     1.0\n",
       "578     5.0\n",
       "       ... \n",
       "58      1.0\n",
       "342     1.0\n",
       "394     1.0\n",
       "453     5.0\n",
       "843     2.0\n",
       "Name: pose, Length: 310, dtype: float64"
      ]
     },
     "execution_count": 97,
     "metadata": {},
     "output_type": "execute_result"
    }
   ],
   "source": [
    "y_test"
   ]
  },
  {
   "cell_type": "code",
   "execution_count": 101,
   "id": "a0a95368",
   "metadata": {},
   "outputs": [],
   "source": [
    "def find_center(keypoints):\n",
    "    # Calculate the center by taking the average of x and y coordinates\n",
    "    center_x = np.mean([x for x, y in keypoints])\n",
    "    center_y = np.mean([y for x, y in keypoints])\n",
    "    return center_x, center_y\n",
    "\n",
    "def normalize_distances(distances):\n",
    "    max_distance = max(distances)\n",
    "    min_distance = min(distances)\n",
    "    \n",
    "    if max_distance == min_distance:\n",
    "        # Avoid division by zero if all distances are the same\n",
    "        return [0.0] * len(distances)\n",
    "    \n",
    "    return [round((distance - min_distance) / (max_distance - min_distance) , 2) for distance in distances]\n",
    "\n",
    "\n",
    "\n",
    "def calculate_distances_and_angles(keypoints, center):\n",
    "    distances = []\n",
    "    angles = []\n",
    "\n",
    "    for x, y in keypoints:\n",
    "        # Calculate Euclidean distance from the center\n",
    "        distance = np.linalg.norm(np.array([x, y]) - np.array(center))\n",
    "        distances.append(distance)\n",
    "\n",
    "        # Calculate angle relative to the center (you may need to adjust this)\n",
    "        angle = (np.arctan2(y - center[1], x - center[0]) * 180.0 / np.pi + 360) % 360\n",
    "        angles.append(round(angle,1))\n",
    "    \n",
    "    normalized_distances = normalize_distances(distances)\n",
    "    \n",
    "    return normalized_distances, angles"
   ]
  },
  {
   "cell_type": "code",
   "execution_count": 103,
   "id": "fcbbab08",
   "metadata": {},
   "outputs": [],
   "source": [
    "def calculate_angle(a,b,c):\n",
    "    a = np.array(a) # First\n",
    "    b = np.array(b) # Mid\n",
    "    c = np.array(c) # End\n",
    "    \n",
    "    radians = np.arctan2(c[1]-b[1], c[0]-b[0]) - np.arctan2(a[1]-b[1], a[0]-b[0])\n",
    "    angle = np.abs(radians*180.0/np.pi)\n",
    "    \n",
    "#     if angle >180.0:\n",
    "#         angle = 360-angle\n",
    "    \n",
    "    # Round to 1 decimal place\n",
    "    angle = round(angle, 1)\n",
    "    \n",
    "        \n",
    "    return angle "
   ]
  },
  {
   "cell_type": "code",
   "execution_count": 116,
   "id": "be35899f",
   "metadata": {},
   "outputs": [],
   "source": [
    "\n",
    "# Load image\n",
    "image_path = \"YogaIntelliJ/classification model/yoga_poses/test/tree/guy3_tree085.jpg\"\n",
    "ori_image = cv2.imread(image_path)\n",
    "\n",
    "# Resize image to 640x480\n",
    "desired_size = (640, 480)\n",
    "image = cv2.resize(ori_image, desired_size)\n",
    "\n",
    "\n",
    "def PoseDetection(image):\n",
    "\n",
    "    with mp_pose.Pose(min_detection_confidence=0.5, min_tracking_confidence=0.5) as pose:\n",
    "    # Recolor image to RGB\n",
    "        image_rgb = cv2.cvtColor(image, cv2.COLOR_BGR2RGB)\n",
    "    \n",
    "    # Make detection\n",
    "        results = pose.process(image_rgb)\n",
    "\n",
    "    # Extract landmarks\n",
    "        try:\n",
    "            landmarks = results.pose_landmarks.landmark\n",
    "        \n",
    "        # Extract key landmarks for angle calculation\n",
    "            nose = [landmarks[mp_pose.PoseLandmark.NOSE.value].x,\n",
    "                landmarks[mp_pose.PoseLandmark.NOSE.value].y]\n",
    "\n",
    "            right_shoulder = [landmarks[mp_pose.PoseLandmark.RIGHT_SHOULDER.value].x,\n",
    "                          landmarks[mp_pose.PoseLandmark.RIGHT_SHOULDER.value].y]\n",
    "            right_elbow = [landmarks[mp_pose.PoseLandmark.RIGHT_ELBOW.value].x,\n",
    "                       landmarks[mp_pose.PoseLandmark.RIGHT_ELBOW.value].y]\n",
    "            right_wrist = [landmarks[mp_pose.PoseLandmark.RIGHT_WRIST.value].x,\n",
    "                       landmarks[mp_pose.PoseLandmark.RIGHT_WRIST.value].y]\n",
    "            right_hip = [landmarks[mp_pose.PoseLandmark.RIGHT_HIP.value].x,\n",
    "                     landmarks[mp_pose.PoseLandmark.RIGHT_HIP.value].y]\n",
    "            right_knee = [landmarks[mp_pose.PoseLandmark.RIGHT_KNEE.value].x,\n",
    "                      landmarks[mp_pose.PoseLandmark.RIGHT_KNEE.value].y]\n",
    "            right_ankle = [landmarks[mp_pose.PoseLandmark.RIGHT_ANKLE.value].x,\n",
    "                       landmarks[mp_pose.PoseLandmark.RIGHT_ANKLE.value].y]\n",
    "            left_shoulder = [landmarks[mp_pose.PoseLandmark.LEFT_SHOULDER.value].x,\n",
    "                         landmarks[mp_pose.PoseLandmark.LEFT_SHOULDER.value].y]\n",
    "            left_elbow = [landmarks[mp_pose.PoseLandmark.LEFT_ELBOW.value].x,\n",
    "                      landmarks[mp_pose.PoseLandmark.LEFT_ELBOW.value].y]\n",
    "            left_wrist = [landmarks[mp_pose.PoseLandmark.LEFT_WRIST.value].x,\n",
    "                      landmarks[mp_pose.PoseLandmark.LEFT_WRIST.value].y]\n",
    "            left_hip = [landmarks[mp_pose.PoseLandmark.LEFT_HIP.value].x,\n",
    "                    landmarks[mp_pose.PoseLandmark.LEFT_HIP.value].y]\n",
    "            left_knee = [landmarks[mp_pose.PoseLandmark.LEFT_KNEE.value].x,\n",
    "                     landmarks[mp_pose.PoseLandmark.LEFT_KNEE.value].y]\n",
    "            left_ankle = [landmarks[mp_pose.PoseLandmark.LEFT_ANKLE.value].x,\n",
    "                      landmarks[mp_pose.PoseLandmark.LEFT_ANKLE.value].y]\n",
    "\n",
    "            keypoints = [\n",
    "                right_shoulder, right_elbow, right_wrist, right_hip, right_knee, right_ankle,\n",
    "                left_shoulder, left_elbow, left_wrist, left_hip, left_knee, left_ankle\n",
    "            ]\n",
    "\n",
    "            center = nose\n",
    "            normalized_distance, angles_from_center = calculate_distances_and_angles(keypoints, center)\n",
    "\n",
    "            angle_right_shoulder_hip_knee = calculate_angle(right_shoulder, right_hip, right_knee)\n",
    "            angle_right_hip_knee_ankle = calculate_angle(right_hip, right_knee, right_ankle)\n",
    "            angle_left_shoulder_hip_knee = calculate_angle(left_shoulder, left_hip, left_knee)\n",
    "            angle_left_hip_knee_ankle = calculate_angle(left_hip, left_knee, left_ankle)\n",
    "\n",
    "            angle_right_elbow_shoulder_hip = calculate_angle(right_elbow, right_shoulder, right_hip)\n",
    "            angle_left_elbow_shoulder_hip = calculate_angle(left_elbow, left_shoulder, left_hip)\n",
    "\n",
    "            angle_right_wrist_elbow_shoulder = calculate_angle(right_wrist, right_elbow, right_shoulder)\n",
    "            angle_left_wrist_elbow_shoulder = calculate_angle(left_wrist, left_elbow, left_shoulder)\n",
    "\n",
    "        \n",
    "        # Draw landmarks and connections on the image\n",
    "            mp_drawing.draw_landmarks(image, results.pose_landmarks, mp_pose.POSE_CONNECTIONS,\n",
    "                                   mp_drawing.DrawingSpec(color=(255, 255, 255), thickness=2, circle_radius=2),\n",
    "                                   mp_drawing.DrawingSpec(color=(255, 0, 0), thickness=2, circle_radius=2)\n",
    "                                   )\n",
    "        \n",
    "            cv2.putText(image, str(angle_left_wrist_elbow_shoulder) + \" , \" + str(\n",
    "            round(normalized_distance[7], 2)) + \" , \" + str(\n",
    "            round(angles_from_center[7], 2)),\n",
    "                    tuple(np.multiply(left_elbow, [640, 480]).astype(int)),\n",
    "                    cv2.FONT_HERSHEY_SIMPLEX, 0.5, (255, 255, 255), 2, cv2.LINE_AA)\n",
    "\n",
    "            cv2.putText(image, str(angle_right_wrist_elbow_shoulder) + \" , \" + str(\n",
    "            round(normalized_distance[1], 2)) + \" , \" + str(\n",
    "            round(angles_from_center[1], 2)),\n",
    "                    tuple(np.multiply(right_elbow, [640, 480]).astype(int)),\n",
    "                    cv2.FONT_HERSHEY_SIMPLEX, 0.5, (255, 255, 255), 2, cv2.LINE_AA)\n",
    "\n",
    "            cv2.putText(image, str(angle_right_shoulder_hip_knee) + \" , \" + str(\n",
    "            round(normalized_distance[3], 2)) + \" , \" + str(\n",
    "            round(angles_from_center[3], 2)),\n",
    "                    tuple(np.multiply(right_hip, [640, 480]).astype(int)),\n",
    "                    cv2.FONT_HERSHEY_SIMPLEX, 0.5, (255, 255, 255), 2, cv2.LINE_AA)\n",
    "\n",
    "            cv2.putText(image, str(angle_left_shoulder_hip_knee) + \" , \" + str(\n",
    "            round(normalized_distance[9], 2)) + \" , \" + str(\n",
    "            round(angles_from_center[9], 2)),\n",
    "                    tuple(np.multiply(left_hip, [640, 480]).astype(int)),\n",
    "                    cv2.FONT_HERSHEY_SIMPLEX, 0.5, (255, 255, 255), 2, cv2.LINE_AA)\n",
    "\n",
    "            cv2.putText(image, str(angle_right_hip_knee_ankle) + \" , \" + str(\n",
    "            round(normalized_distance[4], 2)) + \" , \" + str(\n",
    "            round(angles_from_center[4], 2)),\n",
    "                    tuple(np.multiply(right_knee, [640, 480]).astype(int)),\n",
    "                    cv2.FONT_HERSHEY_SIMPLEX, 0.5, (255, 255, 255), 2, cv2.LINE_AA)\n",
    "\n",
    "            cv2.putText(image, str(angle_left_hip_knee_ankle) + \" , \" + str(\n",
    "            round(normalized_distance[10], 2)) + \" , \" + str(\n",
    "            round(angles_from_center[10], 2)),\n",
    "                    tuple(np.multiply(left_knee, [640, 480]).astype(int)),\n",
    "                    cv2.FONT_HERSHEY_SIMPLEX, 0.5, (255, 255, 255), 2, cv2.LINE_AA)\n",
    "\n",
    "            cv2.putText(image, str(angle_right_elbow_shoulder_hip) + \" , \" + str(\n",
    "            round(normalized_distance[0], 2)) + \" , \" + str(\n",
    "            round(angles_from_center[0], 2)),\n",
    "                    tuple(np.multiply(right_shoulder, [640, 480]).astype(int)),\n",
    "                    cv2.FONT_HERSHEY_SIMPLEX, 0.5, (255, 255, 255), 2, cv2.LINE_AA)\n",
    "\n",
    "            cv2.putText(image, str(angle_left_elbow_shoulder_hip) + \" , \" + str(\n",
    "            round(normalized_distance[6], 2)) + \" , \" + str(\n",
    "            round(angles_from_center[6], 2)),\n",
    "                    tuple(np.multiply(left_shoulder, [640, 480]).astype(int)),\n",
    "                    cv2.FONT_HERSHEY_SIMPLEX, 0.5, (255, 255, 255), 2, cv2.LINE_AA)\n",
    "\n",
    "            cv2.putText(image, \" , \" + str(round(normalized_distance[2], 2)) + \" , \" + str(\n",
    "            round(angles_from_center[2], 2)),\n",
    "                    tuple(np.multiply(right_wrist, [640, 480]).astype(int)),\n",
    "                    cv2.FONT_HERSHEY_SIMPLEX, 0.5, (255, 255, 255), 2, cv2.LINE_AA)\n",
    "\n",
    "            cv2.putText(image, \" , \" + str(round(normalized_distance[8], 2)) + \" , \" + str(\n",
    "            round(angles_from_center[8], 2)),\n",
    "                    tuple(np.multiply(left_wrist, [640, 480]).astype(int)),\n",
    "                    cv2.FONT_HERSHEY_SIMPLEX, 0.5, (255, 255, 255), 2, cv2.LINE_AA)\n",
    "\n",
    "            cv2.putText(image, \" , \" + str(round(normalized_distance[5], 2)) + \" , \" + str(\n",
    "            round(angles_from_center[5], 2)),\n",
    "                    tuple(np.multiply(right_ankle, [640, 480]).astype(int)),\n",
    "                    cv2.FONT_HERSHEY_SIMPLEX, 0.5, (255, 255, 255), 2, cv2.LINE_AA)\n",
    "\n",
    "            cv2.putText(image, \" , \" + str(round(normalized_distance[11], 2)) + \" , \" + str(\n",
    "            round(angles_from_center[11], 2)),\n",
    "                    tuple(np.multiply(left_ankle, [640, 480]).astype(int)),\n",
    "                    cv2.FONT_HERSHEY_SIMPLEX, 0.5, (255, 255, 255), 2, cv2.LINE_AA)\n",
    "\n",
    "        \n",
    "\n",
    "#         center_x, center_y = tuple(np.multiply(nose, [640, 480]).astype(int))\n",
    "#         cv2.circle(image, (center_x, center_y), 5, (0, 0, 255), -1)\n",
    "                # Draw a red circle at the nose position\n",
    "            center_x, center_y = tuple(np.multiply(nose, [640, 480]).astype(int))\n",
    "            cv2.circle(image, (center_x, center_y), 5, (0, 0, 255), -1)\n",
    "\n",
    "\n",
    "        # Display other information as needed...\n",
    "\n",
    "        # Display the image with the drawn landmarks and information\n",
    "#             cv2.imshow('Pose Detection Result', image)\n",
    "#             cv2.waitKey(0)\n",
    "\n",
    "        except Exception as e:\n",
    "            print(f\"An error occurred: {e}\")\n",
    "\n",
    "    cv2.destroyAllWindows()\n",
    "    return{\n",
    "    'angle_right_shoulder_hip_knee': angle_right_shoulder_hip_knee,\n",
    "    'angle_right_hip_knee_ankle': angle_right_hip_knee_ankle,\n",
    "    'angle_left_shoulder_hip_knee':angle_left_shoulder_hip_knee ,\n",
    "    'angle_left_hip_knee_ankle': angle_left_hip_knee_ankle,\n",
    "    'angle_right_elbow_shoulder_hip': angle_right_elbow_shoulder_hip,\n",
    "    'angle_left_elbow_shoulder_hip': angle_left_elbow_shoulder_hip,\n",
    "    'angle_right_wrist_elbow_shoulder': angle_right_wrist_elbow_shoulder,\n",
    "    'angle_left_wrist_elbow_shoulder': angle_left_wrist_elbow_shoulder,\n",
    "    'ndright_shoulder': normalized_distance[0],\n",
    "    'aright_shoulder': angles_from_center[0],\n",
    "    'ndright_elbow': normalized_distance[1],\n",
    "    'aright_elbow': angles_from_center[1],\n",
    "    'ndright_wrist': normalized_distance[2],\n",
    "    'aright_wrist': angles_from_center[2],\n",
    "    'ndright_hip': normalized_distance[3],\n",
    "    'aright_hip': angles_from_center[3],\n",
    "    'ndright_knee': normalized_distance[4],\n",
    "    'aright_knee': angles_from_center[4],\n",
    "    'ndright_ankle': normalized_distance[5],\n",
    "    'aright_ankle': angles_from_center[5],\n",
    "    'ndleft_shoulder': normalized_distance[6],\n",
    "    'aleft_shoulder': angles_from_center[6],\n",
    "    'ndleft_elbow': normalized_distance[7],\n",
    "    'aleft_elbow': angles_from_center[7],\n",
    "    'ndleft_wrist': normalized_distance[8],\n",
    "    'aleft_wrist': angles_from_center[8],\n",
    "    'ndleft_hip': normalized_distance[9],\n",
    "    'aleft_hip': angles_from_center[9],\n",
    "    'ndleft_knee': normalized_distance[10],\n",
    "    'aleft_knee': angles_from_center[10],\n",
    "    'ndleft_ankle': normalized_distance[11],\n",
    "    'aleft_ankle': angles_from_center[11],\n",
    "}\n",
    "Test=PoseDetection(image)"
   ]
  },
  {
   "cell_type": "code",
   "execution_count": 118,
   "id": "10311daf",
   "metadata": {},
   "outputs": [
    {
     "name": "stdout",
     "output_type": "stream",
     "text": [
      "1/1 [==============================] - 0s 16ms/step\n"
     ]
    },
    {
     "data": {
      "text/plain": [
       "array([[3.4503435e-06, 9.9998868e-01, 5.6266094e-07, 2.9914450e-08,\n",
       "        1.2142250e-06, 3.7397641e-07, 5.6680497e-06]], dtype=float32)"
      ]
     },
     "execution_count": 118,
     "metadata": {},
     "output_type": "execute_result"
    }
   ],
   "source": [
    "Test_df=pdTest_df = pd.DataFrame.from_dict(Test, orient='index', columns=['value']).transpose()\n",
    "model.predict(Test_df)"
   ]
  },
  {
   "cell_type": "code",
   "execution_count": 119,
   "id": "64941b5a",
   "metadata": {},
   "outputs": [
    {
     "name": "stdout",
     "output_type": "stream",
     "text": [
      "1/1 [==============================] - 0s 27ms/step\n",
      "The predicted pose is: tree\n"
     ]
    }
   ],
   "source": [
    "# Assuming model is your trained model\n",
    "predictions = model.predict(Test_df)\n",
    "\n",
    "# Get the index of the maximum value in the predictions\n",
    "predicted_class_index = np.argmax(predictions)\n",
    "\n",
    "# Map the index to the corresponding pose label\n",
    "predicted_pose = poses[predicted_class_index]\n",
    "\n",
    "print(f\"The predicted pose is: {predicted_pose}\")"
   ]
  },
  {
   "cell_type": "code",
   "execution_count": 109,
   "id": "c912f8e4",
   "metadata": {},
   "outputs": [
    {
     "data": {
      "text/plain": [
       "{'angle_right_shoulder_hip_knee': 185.2,\n",
       " 'angle_right_hip_knee_ankle': 164.7,\n",
       " 'angle_left_shoulder_hip_knee': 177.9,\n",
       " 'angle_left_hip_knee_ankle': 177.4,\n",
       " 'angle_right_elbow_shoulder_hip': 201.8,\n",
       " 'angle_left_elbow_shoulder_hip': 169.5,\n",
       " 'angle_right_wrist_elbow_shoulder': 158.3,\n",
       " 'angle_left_wrist_elbow_shoulder': 198.6,\n",
       " 'ndright_shoulder': 0.0,\n",
       " 'aright_shoulder': 140.6,\n",
       " 'ndright_elbow': 0.1,\n",
       " 'aright_elbow': 216.3,\n",
       " 'ndright_wrist': 0.34,\n",
       " 'aright_wrist': 245.3,\n",
       " 'ndright_hip': 0.46,\n",
       " 'aright_hip': 95.7,\n",
       " 'ndright_knee': 0.78,\n",
       " 'aright_knee': 94.5,\n",
       " 'ndright_ankle': 0.96,\n",
       " 'aright_ankle': 91.5,\n",
       " 'ndleft_shoulder': 0.05,\n",
       " 'aleft_shoulder': 24.1,\n",
       " 'ndleft_elbow': 0.16,\n",
       " 'aleft_elbow': 322.9,\n",
       " 'ndleft_wrist': 0.39,\n",
       " 'aleft_wrist': 294.7,\n",
       " 'ndleft_hip': 0.47,\n",
       " 'aleft_hip': 82.7,\n",
       " 'ndleft_knee': 0.8,\n",
       " 'aleft_knee': 87.4,\n",
       " 'ndleft_ankle': 1.0,\n",
       " 'aleft_ankle': 88.4}"
      ]
     },
     "execution_count": 109,
     "metadata": {},
     "output_type": "execute_result"
    }
   ],
   "source": [
    "Test"
   ]
  },
  {
   "cell_type": "code",
   "execution_count": 120,
   "id": "de7e7aa8",
   "metadata": {},
   "outputs": [
    {
     "name": "stdout",
     "output_type": "stream",
     "text": [
      "1/1 [==============================] - 0s 47ms/step\n",
      "The predicted pose is: tree\n"
     ]
    }
   ],
   "source": [
    "# Load the saved model\n",
    "model1 = tf.keras.models.load_model('pose_classification_model.h5')\n",
    "\n",
    "# Assuming Test_df is your DataFrame with the test data\n",
    "predictions = model1.predict(Test_df)\n",
    "\n",
    "# Get the index of the maximum value in the predictions\n",
    "predicted_class_index = np.argmax(predictions)\n",
    "\n",
    "# Map the index to the corresponding pose label\n",
    "predicted_pose = poses[predicted_class_index]\n",
    "\n",
    "print(f\"The predicted pose is: {predicted_pose}\")"
   ]
  },
  {
   "cell_type": "code",
   "execution_count": null,
   "id": "13b5fc64",
   "metadata": {},
   "outputs": [],
   "source": []
  }
 ],
 "metadata": {
  "kernelspec": {
   "display_name": "Python 3 (ipykernel)",
   "language": "python",
   "name": "python3"
  },
  "language_info": {
   "codemirror_mode": {
    "name": "ipython",
    "version": 3
   },
   "file_extension": ".py",
   "mimetype": "text/x-python",
   "name": "python",
   "nbconvert_exporter": "python",
   "pygments_lexer": "ipython3",
   "version": "3.9.13"
  }
 },
 "nbformat": 4,
 "nbformat_minor": 5
}
